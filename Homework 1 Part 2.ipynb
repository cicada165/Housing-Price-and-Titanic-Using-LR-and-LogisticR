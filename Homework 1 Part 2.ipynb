{
 "cells": [
  {
   "cell_type": "markdown",
   "id": "5482f65d",
   "metadata": {},
   "source": [
    "# AML Homework 1 PART 2 The Titanic Disaster"
   ]
  },
  {
   "cell_type": "markdown",
   "id": "906ec52b",
   "metadata": {},
   "source": [
    "## Question 1"
   ]
  },
  {
   "cell_type": "markdown",
   "id": "8a683876",
   "metadata": {},
   "source": [
    "##### Join the Titanic: Machine Learning From Disaster competition on Kaggle. Download and pre- process the data."
   ]
  },
  {
   "cell_type": "code",
   "execution_count": 1,
   "id": "3110f2cd",
   "metadata": {},
   "outputs": [],
   "source": [
    "import pandas as pd\n",
    "import matplotlib.pyplot as plt\n",
    "import numpy as np\n",
    "from numpy import e, log\n",
    "from sklearn.metrics import f1_score\n",
    "from numpy.random import rand\n",
    "from sklearn.preprocessing import normalize\n",
    "import csv\n",
    "\n",
    "train = pd.read_csv('titanic/train.csv')\n",
    "test = pd.read_csv('titanic/test.csv')\n",
    "\n",
    "#Data-Preprocessing\n",
    "#Did some tweaking and I found these columns to be quite useless, let's disgard them\n",
    "train.drop(columns=['PassengerId', 'Name', 'Ticket', 'Cabin','Embarked'], axis=1, inplace=True)\n",
    "test.drop(columns= ['PassengerId', 'Name', 'Ticket', 'Cabin','Embarked'], axis=1, inplace= True)\n",
    "\n",
    "#Upon investigaing the data, there are a lot of null values, let's fill them with median\n",
    "train['Age'].fillna(train['Age'].median(), inplace=True)\n",
    "test['Age'].fillna(test['Age'].median(), inplace=True)\n",
    "test['Fare'].fillna(test['Fare'].median(), inplace=True)\n",
    "#Label-encode sex column\n",
    "def label_encode(data):\n",
    "    tmp = []\n",
    "    for line in data:\n",
    "        if line == 'male':\n",
    "            tmp.append(0)\n",
    "        elif line == 'female':\n",
    "            tmp.append(1)     \n",
    "    return tmp\n",
    "\n",
    "x_train= train.iloc[:, 1:]\n",
    "y_train= train['Survived'].values.reshape(-1,1).astype(int)\n",
    "\n",
    "label_List1 = label_encode(x_train['Sex'])\n",
    "label_List2 = label_encode(test['Sex'])\n",
    "x_train.drop('Sex', axis = 1, inplace = True)\n",
    "x_train['Sex'] = label_List1\n",
    "test.drop('Sex', axis = 1, inplace = True)\n",
    "test['Sex'] = label_List2\n",
    "\n",
    "#Feature Normalization\n",
    "features= ['Age', 'SibSp', 'Fare']\n",
    "\n",
    "x_train[features] = normalize(x_train[features])\n",
    "test[features] = normalize(test[features])"
   ]
  },
  {
   "cell_type": "markdown",
   "id": "3e3c4ebc",
   "metadata": {},
   "source": [
    "## Question 2"
   ]
  },
  {
   "cell_type": "markdown",
   "id": "e90cc3a5",
   "metadata": {},
   "source": [
    "##### Using logistic regression, try to predict whether a passenger survived the disaster. Choose the features (or combinations of features) you would like to use or ignore, provided you justify your choice."
   ]
  },
  {
   "cell_type": "code",
   "execution_count": 2,
   "id": "04c8d5ab",
   "metadata": {},
   "outputs": [
    {
     "name": "stdout",
     "output_type": "stream",
     "text": [
      "Accuracy:  0.7845117845117845\n",
      "F1-Score:  0.710843373493976\n"
     ]
    },
    {
     "data": {
      "image/png": "[encoded data removed]",
      "text/plain": [
       "<Figure size 432x288 with 1 Axes>"
      ]
     },
     "metadata": {
      "needs_background": "light"
     },
     "output_type": "display_data"
    }
   ],
   "source": [
    "class Logistic:\n",
    " \n",
    "    def __init__(self, x, y, learning_rate, iteration):\n",
    "        self.x = x\n",
    "        self.y = y\n",
    "        self.lr = learning_rate\n",
    "        self.iteration = iteration\n",
    "        \n",
    "    def sigmoid (self,z):\n",
    "        return 1/(1 + e**(-z))\n",
    "    \n",
    "    def cost_function(self, x, y, weights):                 \n",
    "        z = np.dot(x, weights)\n",
    "        predict = y * np.log(self.sigmoid(z)) + (1-y) * np.log(1-self.sigmoid(z))\n",
    "        return -np.sum(predict) / len(self.x)\n",
    "    \n",
    "    def fit(self): \n",
    "        # X: N*Feature\n",
    "        #Weight: Feature*2\n",
    "        cost = []\n",
    "        weights = np.zeros((self.x.shape[1],1))\n",
    "        N = len(self.x)\n",
    "                 \n",
    "        for i in range(iteration):        \n",
    "\n",
    "            y_hat = self.sigmoid(np.dot(self.x, weights))\n",
    "            y_true = self.y\n",
    "            weights -= learning_rate * np.dot(self.x.T,  (y_hat - y_true)) / N            \n",
    "            cost.append(self.cost_function(self.x, self.y, weights)) \n",
    "            \n",
    "        plt.plot(cost)\n",
    "        self.weights = weights\n",
    "        y_pred = self.sigmoid(np.dot(self.x, weights))\n",
    "        return weights, cost\n",
    "    \n",
    "    def predict(self,data): \n",
    "        # Predicting with sigmoid function\n",
    "        z = np.dot(data, self.weights)\n",
    "        result = [int(i>0.5) for i in self.sigmoid(z)]\n",
    "        \n",
    "        return np.array(result)\n",
    "        \n",
    "    def evaluate(self):\n",
    "        y_pred = self.predict(self.x)\n",
    "        y = self.y.reshape(-1,)\n",
    "        f1 = f1_score(self.y, y_pred )\n",
    "        acc = np.sum(y==y_pred)/self.y.shape[0]\n",
    "        print(\"Accuracy: \",acc)\n",
    "        print(\"F1-Score: \",f1)\n",
    "\n",
    "iteration = 1000\n",
    "learning_rate = 0.5\n",
    "model_Logistic = Logistic(x_train,y_train,learning_rate, iteration)\n",
    "weights, cost_list = model_Logistic.fit()\n",
    "\n",
    "model_Logistic.evaluate()\n"
   ]
  },
  {
   "cell_type": "markdown",
   "id": "2f743e49",
   "metadata": {},
   "source": [
    "## Question 3"
   ]
  },
  {
   "cell_type": "markdown",
   "id": "f7bb0854",
   "metadata": {},
   "source": [
    "##### Train your classifier using all of the training data, and test it using the testing data. Submit your results to Kaggle."
   ]
  },
  {
   "cell_type": "code",
   "execution_count": 3,
   "id": "06b6412a",
   "metadata": {},
   "outputs": [],
   "source": [
    "result = model_Logistic.predict(test)\n",
    "with open(\"gender_submission.csv\",\"w\") as f:\n",
    "    writer = csv.writer(f)\n",
    "    row = [\"PassengerId\", \"Survived\"]\n",
    "    writer.writerow(row)\n",
    "    for i in range(len(test)):\n",
    "        row = [i+892, result[i]]\n",
    "        writer.writerow(row)"
   ]
  },
  {
   "cell_type": "code",
   "execution_count": 9,
   "id": "9c9bf3ca",
   "metadata": {},
   "outputs": [
    {
     "data": {
      "text/plain": [
       "[<matplotlib.lines.Line2D at 0x7fa17074bb70>]"
      ]
     },
     "execution_count": 9,
     "metadata": {},
     "output_type": "execute_result"
    },
    {
     "data": {
      "image/png": "[encoded data removed]",
      "text/plain": [
       "<Figure size 432x288 with 1 Axes>"
      ]
     },
     "metadata": {
      "needs_background": "light"
     },
     "output_type": "display_data"
    }
   ],
   "source": [
    "x_coordinates = [-1, -1, 0,0,0,1,1]\n",
    "y_coordinates = [-1, 0, -1,0,1,0,1]\n",
    "#(−1, −1), (−1, 0), (0, −1), (0, 0), (0, 1), (1, 0), (1, 1)\n",
    "plt.scatter(x_coordinates, y_coordinates)\n",
    "plt.plot([-1,1], [-1,1])"
   ]
  }
 ],
 "metadata": {
  "kernelspec": {
   "display_name": "Python [conda env:py36] *",
   "language": "python",
   "name": "conda-env-py36-py"
  },
  "language_info": {
   "codemirror_mode": {
    "name": "ipython",
    "version": 3
   },
   "file_extension": ".py",
   "mimetype": "text/x-python",
   "name": "python",
   "nbconvert_exporter": "python",
   "pygments_lexer": "ipython3",
   "version": "3.6.2"
  }
 },
 "nbformat": 4,
 "nbformat_minor": 5
}
