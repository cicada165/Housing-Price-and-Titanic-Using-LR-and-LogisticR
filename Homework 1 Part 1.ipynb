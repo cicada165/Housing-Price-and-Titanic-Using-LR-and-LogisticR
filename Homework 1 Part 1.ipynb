{
 "cells": [
  {
   "cell_type": "markdown",
   "id": "676d6599",
   "metadata": {},
   "source": [
    "# AML Homework 1 PART 1 The Housing Prices"
   ]
  },
  {
   "cell_type": "markdown",
   "id": "f89ed57e",
   "metadata": {},
   "source": [
    "# Question 1"
   ]
  },
  {
   "cell_type": "markdown",
   "id": "13ab9a7f",
   "metadata": {},
   "source": [
    "###### Join the House Prices - Advanced Regression Techniques competition on Kaggle. Download the training and test data."
   ]
  },
  {
   "cell_type": "code",
   "execution_count": 1,
   "id": "c95394ce",
   "metadata": {},
   "outputs": [],
   "source": [
    "import pandas as pd\n",
    "import matplotlib.pyplot as plt\n",
    "import numpy as np\n",
    "from numpy import e, log\n",
    "import csv\n",
    "from sklearn.preprocessing import normalize, MinMaxScaler\n",
    "from sklearn.metrics import r2_score\n",
    "from sklearn.metrics import mean_squared_error\n",
    "from sklearn.metrics import f1_score\n",
    "from numpy.random import rand\n",
    "df = pd.read_csv('train.csv')\n",
    "trainDF = df"
   ]
  },
  {
   "cell_type": "markdown",
   "id": "83c5c944",
   "metadata": {},
   "source": [
    "## Question 2"
   ]
  },
  {
   "cell_type": "markdown",
   "id": "b7c3b109",
   "metadata": {},
   "source": [
    "###### Give 3 examples of continuous and categorical features in the dataset; choose one feature of each type and plot the histogram to illustrate the distribution."
   ]
  },
  {
   "cell_type": "markdown",
   "id": "88c21f48",
   "metadata": {},
   "source": [
    "###### Categorical Features: MSZoning, SaleType, SaleCondition\n",
    "###### Continuous Features: LotFrontage, MasVnrArea, GarageYrBlt"
   ]
  },
  {
   "cell_type": "code",
   "execution_count": 2,
   "id": "5c5acde2",
   "metadata": {},
   "outputs": [
    {
     "name": "stdout",
     "output_type": "stream",
     "text": [
      "<class 'pandas.core.frame.DataFrame'>\n",
      "RangeIndex: 1460 entries, 0 to 1459\n",
      "Data columns (total 81 columns):\n",
      " #   Column         Non-Null Count  Dtype  \n",
      "---  ------         --------------  -----  \n",
      " 0   Id             1460 non-null   int64  \n",
      " 1   MSSubClass     1460 non-null   int64  \n",
      " 2   MSZoning       1460 non-null   object \n",
      " 3   LotFrontage    1201 non-null   float64\n",
      " 4   LotArea        1460 non-null   int64  \n",
      " 5   Street         1460 non-null   object \n",
      " 6   Alley          91 non-null     object \n",
      " 7   LotShape       1460 non-null   object \n",
      " 8   LandContour    1460 non-null   object \n",
      " 9   Utilities      1460 non-null   object \n",
      " 10  LotConfig      1460 non-null   object \n",
      " 11  LandSlope      1460 non-null   object \n",
      " 12  Neighborhood   1460 non-null   object \n",
      " 13  Condition1     1460 non-null   object \n",
      " 14  Condition2     1460 non-null   object \n",
      " 15  BldgType       1460 non-null   object \n",
      " 16  HouseStyle     1460 non-null   object \n",
      " 17  OverallQual    1460 non-null   int64  \n",
      " 18  OverallCond    1460 non-null   int64  \n",
      " 19  YearBuilt      1460 non-null   int64  \n",
      " 20  YearRemodAdd   1460 non-null   int64  \n",
      " 21  RoofStyle      1460 non-null   object \n",
      " 22  RoofMatl       1460 non-null   object \n",
      " 23  Exterior1st    1460 non-null   object \n",
      " 24  Exterior2nd    1460 non-null   object \n",
      " 25  MasVnrType     1452 non-null   object \n",
      " 26  MasVnrArea     1452 non-null   float64\n",
      " 27  ExterQual      1460 non-null   object \n",
      " 28  ExterCond      1460 non-null   object \n",
      " 29  Foundation     1460 non-null   object \n",
      " 30  BsmtQual       1423 non-null   object \n",
      " 31  BsmtCond       1423 non-null   object \n",
      " 32  BsmtExposure   1422 non-null   object \n",
      " 33  BsmtFinType1   1423 non-null   object \n",
      " 34  BsmtFinSF1     1460 non-null   int64  \n",
      " 35  BsmtFinType2   1422 non-null   object \n",
      " 36  BsmtFinSF2     1460 non-null   int64  \n",
      " 37  BsmtUnfSF      1460 non-null   int64  \n",
      " 38  TotalBsmtSF    1460 non-null   int64  \n",
      " 39  Heating        1460 non-null   object \n",
      " 40  HeatingQC      1460 non-null   object \n",
      " 41  CentralAir     1460 non-null   object \n",
      " 42  Electrical     1459 non-null   object \n",
      " 43  1stFlrSF       1460 non-null   int64  \n",
      " 44  2ndFlrSF       1460 non-null   int64  \n",
      " 45  LowQualFinSF   1460 non-null   int64  \n",
      " 46  GrLivArea      1460 non-null   int64  \n",
      " 47  BsmtFullBath   1460 non-null   int64  \n",
      " 48  BsmtHalfBath   1460 non-null   int64  \n",
      " 49  FullBath       1460 non-null   int64  \n",
      " 50  HalfBath       1460 non-null   int64  \n",
      " 51  BedroomAbvGr   1460 non-null   int64  \n",
      " 52  KitchenAbvGr   1460 non-null   int64  \n",
      " 53  KitchenQual    1460 non-null   object \n",
      " 54  TotRmsAbvGrd   1460 non-null   int64  \n",
      " 55  Functional     1460 non-null   object \n",
      " 56  Fireplaces     1460 non-null   int64  \n",
      " 57  FireplaceQu    770 non-null    object \n",
      " 58  GarageType     1379 non-null   object \n",
      " 59  GarageYrBlt    1379 non-null   float64\n",
      " 60  GarageFinish   1379 non-null   object \n",
      " 61  GarageCars     1460 non-null   int64  \n",
      " 62  GarageArea     1460 non-null   int64  \n",
      " 63  GarageQual     1379 non-null   object \n",
      " 64  GarageCond     1379 non-null   object \n",
      " 65  PavedDrive     1460 non-null   object \n",
      " 66  WoodDeckSF     1460 non-null   int64  \n",
      " 67  OpenPorchSF    1460 non-null   int64  \n",
      " 68  EnclosedPorch  1460 non-null   int64  \n",
      " 69  3SsnPorch      1460 non-null   int64  \n",
      " 70  ScreenPorch    1460 non-null   int64  \n",
      " 71  PoolArea       1460 non-null   int64  \n",
      " 72  PoolQC         7 non-null      object \n",
      " 73  Fence          281 non-null    object \n",
      " 74  MiscFeature    54 non-null     object \n",
      " 75  MiscVal        1460 non-null   int64  \n",
      " 76  MoSold         1460 non-null   int64  \n",
      " 77  YrSold         1460 non-null   int64  \n",
      " 78  SaleType       1460 non-null   object \n",
      " 79  SaleCondition  1460 non-null   object \n",
      " 80  SalePrice      1460 non-null   int64  \n",
      "dtypes: float64(3), int64(35), object(43)\n",
      "memory usage: 924.0+ KB\n",
      "None\n"
     ]
    },
    {
     "data": {
      "text/plain": [
       "(array([205., 643., 298.,  40.,   9.,   4.,   0.,   0.,   0.,   2.]),\n",
       " array([ 21. ,  50.2,  79.4, 108.6, 137.8, 167. , 196.2, 225.4, 254.6,\n",
       "        283.8, 313. ]),\n",
       " <BarContainer object of 10 artists>)"
      ]
     },
     "execution_count": 2,
     "metadata": {},
     "output_type": "execute_result"
    },
    {
     "data": {
      "image/png": "[encoded data removed]",
      "text/plain": [
       "<Figure size 864x324 with 2 Axes>"
      ]
     },
     "metadata": {
      "needs_background": "light"
     },
     "output_type": "display_data"
    }
   ],
   "source": [
    "#Read df into a pandas dataframe\n",
    "print(df.info())\n",
    "#From the datatypes we can see:\n",
    "#Categorical Features: MSZoning, SaleType, SaleCondition\n",
    "#Continuous Features: LotFrontage, MasVnrArea, GarageYrBlt\n",
    "fig, axs = plt.subplots(1,2,sharey=True,tight_layout=True)\n",
    "fig.set_figheight(4.5), fig.set_figwidth(12)\n",
    "#Plotting Categorical Features\n",
    "axs[0].hist(df[\"MSZoning\"])\n",
    "#Plotting Continuous Features\n",
    "axs[1].hist(df[\"LotFrontage\"])"
   ]
  },
  {
   "cell_type": "markdown",
   "id": "b9e7e24d",
   "metadata": {},
   "source": [
    "## Question 3"
   ]
  },
  {
   "cell_type": "markdown",
   "id": "87bc8ee1",
   "metadata": {},
   "source": [
    "###### Pre-process your data, explain your pre-processing steps, and the reasons why you need them."
   ]
  },
  {
   "cell_type": "code",
   "execution_count": 3,
   "id": "96f60e68",
   "metadata": {
    "scrolled": true
   },
   "outputs": [
    {
     "name": "stderr",
     "output_type": "stream",
     "text": [
      "/Users/qu4ntum/opt/anaconda3/envs/py36/lib/python3.6/site-packages/ipykernel_launcher.py:69: DeprecationWarning: The truth value of an empty array is ambiguous. Returning False, but in future this will result in an error. Use `array.size > 0` to check that an array is not empty.\n",
      "/Users/qu4ntum/opt/anaconda3/envs/py36/lib/python3.6/site-packages/ipykernel_launcher.py:69: DeprecationWarning: elementwise comparison failed; this will raise an error in the future.\n"
     ]
    }
   ],
   "source": [
    "#Lets divide the data into 3 types:categorical, categorical_simple, and continuous\n",
    "#categorical: non-ordinal categorical variables, they will be one-hot encoded\n",
    "#categorical_ordinal: ordinal categorical variables, they will be label encoded\n",
    "#continuous: continuous variables, these will be converted into float\n",
    "categorical = {\"MSZoning\",\"LotShape\",\"LotConfig\",\n",
    "           \"Neighborhood\",\"BldgType\",\"HouseStyle\",\"RoofStyle\",\"RoofMatl\",\"Exterior1st\",\n",
    "           \"Exterior2nd\",\"MasVnrType\",\"ExterCond\",\"Foundation\",\"BsmtQual\",\"BsmtCond\",\"BsmtExposure\",\n",
    "           \"BsmtFinType1\",\"BsmtFinType2\",\"Heating\",\"Electrical\",\n",
    "           \"GarageType\",\"GarageFinish\",\"GarageCond\",\"PavedDrive\",\"Fence\",\"MiscFeature\",\n",
    "           \"SaleType\",\"SaleCondition\"}\n",
    "categorical_ordinal = {\"Street\",\"Alley\",\"Utilities\",\"LandSlope\",\"LandContour\",\"CentralAir\",\"PoolQC\",\n",
    "            \"Condition1\",\"Condition2\",\"ExterQual\",\"KitchenQual\",\"HeatingQC\",\"Functional\",\"GarageQual\",\n",
    "            \"FireplaceQu\"}\n",
    "continuous = {\"MSSubClass\",\"LotFrontage\",\"LotArea\",\"OverallQual\",\"OverallCond\",\"YearBuilt\",\"YearRemodAdd\",\"MasVnrArea\",\"BsmtFinSF1\",\n",
    "             \"BsmtFinSF2\",\"BsmtUnfSF\",\"TotalBsmtSF\",\"1stFlrSF\",\"2ndFlrSF\",\"LowQualFinSF\",\"GrLivArea\",\"BsmtFullBath\",\n",
    "             \"BsmtHalfBath\",\"FullBath\",\"HalfBath\",\"Bedroom\",\"Kitchen\",\"TotRmsAbvGrd\",\"Fireplaces\",\"GarageYrBlt\",\n",
    "             \"GarageCars\",\"GarageArea\",\"WoodDeckSF\",\"OpenPorchSF\",\"EnclosedPorch\",\"3SsnPorch\",\"ScreenPorch\",\"PoolArea\",\n",
    "             \"MiscVal\",\"MoSold\",\"YrSold\",\"BedroomAbvGr\",\"KitchenAbvGr\",\"SalePrice\"}\n",
    "\n",
    "\n",
    "#Function to find unique categories within a categorical feature\n",
    "def find_Category(column):\n",
    "    categories = set()\n",
    "    for value in column:\n",
    "        categories.add(value)\n",
    "    return categories\n",
    "\n",
    "#Function to preprocess all the data in the dataset in one run\n",
    "def preprocessing(df,start,end):\n",
    "    #creating a list of dataframe columns\n",
    "    columns = list(df)[start:end]\n",
    "    #df_cleaned = pd.DataFrame() \n",
    "    data_cleaned = [] #Array that contains cleaned data\n",
    "    for column in columns:\n",
    "        tmp = []\n",
    "        #Takes care of non-ordinal categorical features  \n",
    "        if column in categorical:\n",
    "            #print(column + \" is categorical\")\n",
    "            cats = find_Category(trainDF[column])\n",
    "            cats = list(cats)+[\"NA\"]\n",
    "            for value in df[column]:\n",
    "                tmp2 = [0]*len(cats)\n",
    "                if value != value:\n",
    "                    tmp2[len(cats)-1] = 1\n",
    "                else:\n",
    "                    tmp2[cats.index(value)]=1\n",
    "                tmp.append(tmp2)\n",
    "        #Takes care of ordinal categorical features    \n",
    "        elif column in categorical_ordinal:\n",
    "            #print(column + \" is categorical_ordinal\")\n",
    "            cats = find_Category(trainDF[column])\n",
    "            cats = list(cats)+[\"NA\"]\n",
    "            for value in df[column]:\n",
    "                if value != value:\n",
    "                    tmp.append(len(cats)-1)\n",
    "                else:\n",
    "                    tmp.append(cats.index(value))\n",
    "                \n",
    "        #Normalizes numerical value\n",
    "        elif column in continuous:\n",
    "            #print(column + ' is continuous')\n",
    "            for value in df[column]:\n",
    "                #convert each value into float and replace any missing value with 0\n",
    "                tmp.append(float(value) if value == value else 0)\n",
    "        tmp = np.array(tmp)\n",
    "        if tmp.ndim == 1:\n",
    "            tmp = tmp.reshape(-1,1)\n",
    "            \n",
    "        if data_cleaned == []:\n",
    "            data_cleaned = tmp\n",
    "        else:\n",
    "            data_cleaned = np.hstack((data_cleaned, tmp))#Append the cleaned column to new dataframe\n",
    "    return data_cleaned\n",
    "\n",
    "data = preprocessing(df,1,-1)\n"
   ]
  },
  {
   "cell_type": "markdown",
   "id": "0753e300",
   "metadata": {},
   "source": [
    "## Question 4"
   ]
  },
  {
   "cell_type": "markdown",
   "id": "54e536e2",
   "metadata": {},
   "source": [
    "###### One-hot encoding"
   ]
  },
  {
   "cell_type": "markdown",
   "id": "4c85fa3e",
   "metadata": {},
   "source": [
    "##### Question 4 is already answered in Question 3 as the pre-processing function one-hot encoded all the non-ordinal categorical value\n",
    "##### I one-hot encoded all of the non-ordinal categorical value to see how well the model performance without using any packages\n",
    "\n"
   ]
  },
  {
   "cell_type": "markdown",
   "id": "aafa385e",
   "metadata": {},
   "source": [
    "## Question 5"
   ]
  },
  {
   "cell_type": "markdown",
   "id": "75cd8be7",
   "metadata": {},
   "source": [
    "##### Using ordinary least squares (OLS), try to predict house prices on this dataset. Choose the features (or combinations of features) you would like to use or ignore, provided you justify your choice. Evaluate your predictions on the training set using the MSE and the R2 score. For this question, you need to implement OLS from scratch without using any external libraries or packages."
   ]
  },
  {
   "cell_type": "code",
   "execution_count": 4,
   "id": "8bea1347",
   "metadata": {
    "scrolled": true
   },
   "outputs": [],
   "source": [
    "class OLS:\n",
    "    def __init__(self, x, y, learning_rate, iteration):\n",
    "        self.x = x\n",
    "        self.y = y\n",
    "        self.lr = learning_rate\n",
    "        self.iteration = iteration\n",
    "        self.theta = (1/(x.shape[1]+1))*np.ones((x.shape[1]+1,1))#Mean Initialization\n",
    "        \n",
    "    def fit(self):\n",
    "        x = np.hstack([np.ones(len(self.x))[:, np.newaxis], self.x])#Account for y-intersection\n",
    "        n = self.y.shape[0]\n",
    "        theta = self.theta\n",
    "        cost_list = []\n",
    "        for i in range(iteration):\n",
    "            y_pred = np.dot(x, theta)\n",
    "            #Calculating cost using the cost function\n",
    "            cost = (1/(2*n))*np.sum(np.square(y_pred - y))\n",
    "            #gradient decent\n",
    "            d_theta = (1/n)*np.dot(x.T, y_pred - y)\n",
    "            theta = theta - self.lr*d_theta\n",
    "            cost_list.append(cost)\n",
    "#             print('Prediction: ' + str(y_pred))\n",
    "#             print('Cost:' + str(cost))\n",
    "#             print('d_theta' + str(d_theta))\n",
    "        \n",
    "        self.theta = theta\n",
    "        self.y_pred = np.dot(x, theta)\n",
    "        \n",
    "        plt.plot(cost_list)\n",
    "        plt.title(\"Cost Grpah\")\n",
    "        plt.show()\n",
    "        \n",
    "        return theta, cost_list, self.y_pred\n",
    "    \n",
    "    def predict(self,data):\n",
    "        x = np.hstack([np.ones(len(data))[:, np.newaxis], data])\n",
    "        y_pred = np.dot(x, theta)\n",
    "        return y_pred\n",
    "        \n",
    "    def evaluate(self):\n",
    "        r2 = r2_score(self.y, self.y_pred)\n",
    "        mse = mean_squared_error(self.y, self.y_pred)\n",
    "        print(\"R2_Score: \", r2)\n",
    "        print(\"Mean Squared Error: \",mse)"
   ]
  },
  {
   "cell_type": "markdown",
   "id": "9a41fcd3",
   "metadata": {},
   "source": [
    "## Question 6"
   ]
  },
  {
   "cell_type": "markdown",
   "id": "0a0433a7",
   "metadata": {},
   "source": [
    "##### Train your classifier using all of the training data, and test it using the testing data. Submit your results to Kaggle."
   ]
  },
  {
   "cell_type": "code",
   "execution_count": 5,
   "id": "dd2aaaa2",
   "metadata": {},
   "outputs": [
    {
     "data": {
      "image/png": "[encoded data removed]",
      "text/plain": [
       "<Figure size 432x288 with 1 Axes>"
      ]
     },
     "metadata": {
      "needs_background": "light"
     },
     "output_type": "display_data"
    },
    {
     "name": "stdout",
     "output_type": "stream",
     "text": [
      "R2_Score:  0.8274347137752431\n",
      "Mean Squared Error:  0.00518983329947234\n"
     ]
    }
   ],
   "source": [
    "iteration = 1000\n",
    "learning_rate = 5E-1\n",
    "y = preprocessing(df,-1,9999)\n",
    "\n",
    "data = normalize(data,axis=0)\n",
    "# y = normalize(y,axis=0)\n",
    "y = np.log10(y)\n",
    "\n",
    "model_OLS = OLS(data,y,learning_rate, iteration)\n",
    "theta, cost_list, y_pred = model_OLS.fit()\n",
    "OLS.evaluate(model_OLS)\n",
    "#np.log1p()"
   ]
  },
  {
   "cell_type": "code",
   "execution_count": 6,
   "id": "ad30adaa",
   "metadata": {
    "scrolled": true
   },
   "outputs": [
    {
     "name": "stderr",
     "output_type": "stream",
     "text": [
      "/Users/qu4ntum/opt/anaconda3/envs/py36/lib/python3.6/site-packages/ipykernel_launcher.py:69: DeprecationWarning: The truth value of an empty array is ambiguous. Returning False, but in future this will result in an error. Use `array.size > 0` to check that an array is not empty.\n",
      "/Users/qu4ntum/opt/anaconda3/envs/py36/lib/python3.6/site-packages/ipykernel_launcher.py:69: DeprecationWarning: elementwise comparison failed; this will raise an error in the future.\n"
     ]
    }
   ],
   "source": [
    "test_df = pd.read_csv('test.csv')\n",
    "\n",
    "test_data = preprocessing(test_df,1,80)\n",
    "test_data = normalize(test_data,axis=0)\n",
    "predictions = model_OLS.predict(test_data)\n",
    "\n",
    "\n",
    "with open(\"submission.csv\",\"w\") as f:\n",
    "    writer = csv.writer(f)\n",
    "    row = [\"Id\", \"SalePrice\"]\n",
    "    writer.writerow(row)\n",
    "    for i in range(len(predictions)):\n",
    "        row = [i+1461, 10**predictions[i][0]]\n",
    "        writer.writerow(row)\n",
    "        \n"
   ]
  }
 ],
 "metadata": {
  "kernelspec": {
   "display_name": "Python [conda env:py36] *",
   "language": "python",
   "name": "conda-env-py36-py"
  },
  "language_info": {
   "codemirror_mode": {
    "name": "ipython",
    "version": 3
   },
   "file_extension": ".py",
   "mimetype": "text/x-python",
   "name": "python",
   "nbconvert_exporter": "python",
   "pygments_lexer": "ipython3",
   "version": "3.6.2"
  }
 },
 "nbformat": 4,
 "nbformat_minor": 5
}
